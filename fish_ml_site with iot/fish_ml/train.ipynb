{
 "cells": [
  {
   "cell_type": "code",
   "execution_count": 4,
   "metadata": {},
   "outputs": [
    {
     "name": "stdout",
     "output_type": "stream",
     "text": [
      "Columns in dataset: Index(['Unnamed: 0', 'ph', 'humidity', 'tempC', 'mq135', 'mq7', 'tds',\n",
      "       'turbidity', 'fish_species'],\n",
      "      dtype='object')\n",
      "Number of features in X: 8\n",
      "              precision    recall  f1-score   support\n",
      "\n",
      "Bighead Carp       0.10      0.13      0.11       195\n",
      "     Catfish       0.11      0.12      0.12       196\n",
      " Common Carp       0.08      0.07      0.07       195\n",
      "  Grass Carp       0.07      0.07      0.07       194\n",
      "      Mrigal       0.08      0.07      0.08       198\n",
      "   Pangasius       0.09      0.11      0.10       184\n",
      "        Rohu       0.06      0.06      0.06       204\n",
      " Silver Carp       0.12      0.11      0.11       192\n",
      "   Snakehead       0.11      0.12      0.12       215\n",
      "     Tilapia       0.16      0.11      0.13       227\n",
      "\n",
      "    accuracy                           0.10      2000\n",
      "   macro avg       0.10      0.10      0.10      2000\n",
      "weighted avg       0.10      0.10      0.10      2000\n",
      "\n",
      "Shape of sample data: (1, 8)\n",
      "Recommended fish species: Bighead Carp\n"
     ]
    },
    {
     "name": "stderr",
     "output_type": "stream",
     "text": [
      "c:\\Users\\Home\\AppData\\Local\\Programs\\Python\\Python311\\Lib\\site-packages\\sklearn\\base.py:493: UserWarning: X does not have valid feature names, but StandardScaler was fitted with feature names\n",
      "  warnings.warn(\n"
     ]
    }
   ],
   "source": [
    "import numpy as np\n",
    "import pandas as pd\n",
    "from sklearn.ensemble import RandomForestClassifier\n",
    "from sklearn.preprocessing import StandardScaler\n",
    "from sklearn.model_selection import train_test_split\n",
    "from sklearn.metrics import classification_report\n",
    "\n",
    "# Load dataset (replace with the correct path)\n",
    "data = pd.read_csv(\"fish.csv\")\n",
    "\n",
    "# Check the columns to verify feature count\n",
    "print(\"Columns in dataset:\", data.columns)\n",
    "\n",
    "# Features and target\n",
    "X = data.drop('fish_species', axis=1)\n",
    "y = data['fish_species']\n",
    "\n",
    "# Print the number of features\n",
    "print(f\"Number of features in X: {X.shape[1]}\")\n",
    "\n",
    "# Splitting dataset\n",
    "X_train, X_test, y_train, y_test = train_test_split(X, y, test_size=0.2, random_state=42)\n",
    "\n",
    "# Normalize the features\n",
    "scaler = StandardScaler()\n",
    "X_train_scaled = scaler.fit_transform(X_train)\n",
    "X_test_scaled = scaler.transform(X_test)\n",
    "\n",
    "# Train a Random Forest Classifier\n",
    "clf = RandomForestClassifier(n_estimators=100, random_state=42)\n",
    "clf.fit(X_train_scaled, y_train)\n",
    "\n",
    "# Test the model\n",
    "y_pred = clf.predict(X_test_scaled)\n",
    "\n",
    "# Print evaluation report\n",
    "print(classification_report(y_test, y_pred))\n",
    "\n",
    "# Making prediction for new data\n",
    "# Ensure the sample data has the correct number of features\n",
    "sample_data = np.array([[9.27, 53.10, 33.10, 188, 12, 50.56, 552, 3.5]])  # Add missing feature\n",
    "print(f\"Shape of sample data: {sample_data.shape}\")\n",
    "\n",
    "# Transform using the trained scaler\n",
    "sample_data_scaled = scaler.transform(sample_data)\n",
    "\n",
    "# Predict fish species\n",
    "predicted_fish = clf.predict(sample_data_scaled)\n",
    "\n",
    "print(f\"Recommended fish species: {predicted_fish[0]}\")\n"
   ]
  },
  {
   "cell_type": "code",
   "execution_count": 10,
   "metadata": {},
   "outputs": [
    {
     "name": "stdout",
     "output_type": "stream",
     "text": [
      "Number of features in dataset: 6\n",
      "Recommended fish species: Bighead Carp\n"
     ]
    },
    {
     "name": "stderr",
     "output_type": "stream",
     "text": [
      "c:\\Users\\Home\\AppData\\Local\\Programs\\Python\\Python311\\Lib\\site-packages\\sklearn\\base.py:493: UserWarning: X does not have valid feature names, but StandardScaler was fitted with feature names\n",
      "  warnings.warn(\n"
     ]
    }
   ],
   "source": [
    "import numpy as np\n",
    "import pandas as pd\n",
    "from sklearn.ensemble import RandomForestClassifier\n",
    "from sklearn.preprocessing import StandardScaler\n",
    "from sklearn.model_selection import train_test_split\n",
    "from sklearn.metrics import classification_report\n",
    "\n",
    "# Load dataset (replace with the correct path)\n",
    "data = pd.read_csv(\"fish.csv\")\n",
    "\n",
    "# Features and target\n",
    "X = data.drop('fish_species', axis=1)  # Drop target column\n",
    "y = data['fish_species']\n",
    "\n",
    "# Check number of features\n",
    "print(f\"Number of features in dataset: {X.shape[1]}\")\n",
    "\n",
    "# Splitting dataset\n",
    "X_train, X_test, y_train, y_test = train_test_split(X, y, test_size=0.2, random_state=42)\n",
    "\n",
    "# Normalize the features\n",
    "scaler = StandardScaler()\n",
    "X_train_scaled = scaler.fit_transform(X_train)\n",
    "X_test_scaled = scaler.transform(X_test)\n",
    "\n",
    "# Train a Random Forest Classifier\n",
    "clf = RandomForestClassifier(n_estimators=100, random_state=42)\n",
    "clf.fit(X_train_scaled, y_train)\n",
    "\n",
    "# Making prediction for a new single data point\n",
    "sample_data = np.array([[9.27, 53.10, 33.10, 188, 12, 50.56]])  # Ensure 8 features\n",
    "\n",
    "# Scale the new data\n",
    "sample_data_scaled = scaler.transform(sample_data)\n",
    "\n",
    "# Predict fish species\n",
    "predicted_fish = clf.predict(sample_data_scaled)\n",
    "\n",
    "print(f\"Recommended fish species: {predicted_fish[0]}\")\n"
   ]
  }
 ],
 "metadata": {
  "kernelspec": {
   "display_name": "Python 3",
   "language": "python",
   "name": "python3"
  },
  "language_info": {
   "codemirror_mode": {
    "name": "ipython",
    "version": 3
   },
   "file_extension": ".py",
   "mimetype": "text/x-python",
   "name": "python",
   "nbconvert_exporter": "python",
   "pygments_lexer": "ipython3",
   "version": "3.11.9"
  }
 },
 "nbformat": 4,
 "nbformat_minor": 2
}
